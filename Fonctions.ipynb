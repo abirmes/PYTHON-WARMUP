{
 "cells": [
  {
   "cell_type": "markdown",
   "id": "21dfa672",
   "metadata": {},
   "source": [
    "<center>\n",
    "<H1><span style=\"text-align: center; font-weight: bold; color: #746bb3ff;\">Les Fonctions</span></H1>\n",
    "</center>"
   ]
  },
  {
   "cell_type": "markdown",
   "id": "4280dbf3",
   "metadata": {},
   "source": [
    "<H3><span style=\"font-weight: bold ; color: #19b7f1ff\">Les ressources: </span></H3> \n",
    "\n",
    "\n",
    "* [Python Functions](https://realpython.com/defining-your-own-python-function/#abstraction)\n",
    "* [Documentation Officielle de Python](https://docs.python.org/fr/3/tutorial/controlflow.html#defining-functions)"
   ]
  },
  {
   "cell_type": "markdown",
   "id": "e83d584f",
   "metadata": {},
   "source": [
    "<H3><span style=\"font-weight: bold; color: #1a8bcdff;\">Challenge 1 : Présentation personnalisé</span></H3>\n",
    "\n",
    "1. <span style=\"font-weight: bold; color: #e56922ff;\">Objectif</span> : </br>\n",
    "Réutiliser un programme existant (Challenge 2) en le structurant dans une fonction nommée horaire_sup.\n",
    "\n",
    "2. <span style=\"font-weight: bold; color: #e56922ff;\">Travail à faire</span>:</br>\n",
    "Réécris le programme du Challenge 2 dans une fonction appelée horaire_sup."
   ]
  },
  {
   "cell_type": "code",
   "execution_count": null,
   "id": "b3439d44",
   "metadata": {},
   "outputs": [
    {
     "name": "stdout",
     "output_type": "stream",
     "text": [
      "le salaire est  53.5\n"
     ]
    }
   ],
   "source": [
    "def horaire_sup(horaire , salaire):\n",
    "    if horaire > 40:\n",
    "        salaireReguliere = 40*salaire\n",
    "        horaireSupp = horaire - 40\n",
    "        salaireSupp = horaireSupp*salaire*1.5\n",
    "        salaireTotal = salaireSupp + salaireReguliere \n",
    "        print('le salaire est ', salaireTotal)\n",
    "    else:\n",
    "        salaire = horaire*salaire\n",
    "        print('salaire total: ', salaire )\n",
    "\n",
    "horaire_sup(49,1)\n",
    "    "
   ]
  },
  {
   "cell_type": "markdown",
   "id": "77631c7d",
   "metadata": {},
   "source": [
    "<H3><span style=\"font-weight: bold; color: #1a8bcdff;\">Challenge 2 : Fonction calculation() – somme et différence</span></H3>\n",
    "\n",
    "1. <span style=\"font-weight: bold; color: #e56922ff;\">Objectif</span> : </br>\n",
    "Apprendre à écrire une fonction avec plusieurs paramètres et plusieurs valeurs de retour.\n",
    "\n",
    "2. <span style=\"font-weight: bold; color: #e56922ff;\">Travail à faire</span>:</br>\n",
    "Écris une fonction calculation() qui prend deux arguments et calcule leur somme ainsi que leur différence. La fonction doit ensuite retourner les deux résultats dans une seule instruction return."
   ]
  },
  {
   "cell_type": "code",
   "execution_count": 3,
   "id": "323a8b4a",
   "metadata": {},
   "outputs": [
    {
     "data": {
      "text/plain": [
       "('la somme est ', 7, 'et le difference est ', 1.0)"
      ]
     },
     "execution_count": 3,
     "metadata": {},
     "output_type": "execute_result"
    }
   ],
   "source": [
    "import math\n",
    "def calculation(num1 , num2):\n",
    "    somme = num1 + num2\n",
    "    diff = math.fabs(num1 - num2)\n",
    "    return 'la somme est ' ,somme, 'et le difference est ' , diff\n",
    "calculation(3,4)\n",
    "\n",
    "\n",
    "    "
   ]
  },
  {
   "cell_type": "markdown",
   "id": "c2081304",
   "metadata": {},
   "source": [
    "<H3><span style=\"font-weight: bold; color: #1a8bcdff;\">Challenge 3 : Mini-projets algorithmiques regroupés</span></H3>\n",
    "\n",
    "1. <span style=\"font-weight: bold; color: #e56922ff;\">Objectif</span> : </br>\n",
    "Développer plusieurs petites fonctions indépendantes, chacune ciblant une compétence précise\n",
    "\n",
    "2. <span style=\"font-weight: bold; color: #e56922ff;\">Travail à faire</span>:</br>\n",
    "- Demander à l’utilisateur de saisir un nombre entier n et afficher la factorielle de ce nombre (n!).\n",
    "- Demander à l’utilisateur un nombre entier m et afficher sa table de multiplication de 1 à 10.\n",
    "- Demander à l’utilisateur un nombre entier L et indiquer s’il s’agit d’un carré parfait.\n",
    "- Demander une chaîne de caractères à l’utilisateur, puis afficher chaque caractère un par un.\n",
    "- Demander une phrase à l’utilisateur et afficher le mot le plus long de cette phrase.\n",
    "- Demander une chaîne de caractères Ch et afficher le nombre d’occurrences de chaque caractère. Exemple : Pour Ch = “artificial intelligence developer” \n",
    "- Le programme doit afficher : Le caractère \"i\" figure 5 fois dans la chaîne Ch."
   ]
  },
  {
   "cell_type": "code",
   "execution_count": 69,
   "id": "a06adf5c",
   "metadata": {},
   "outputs": [
    {
     "name": "stdout",
     "output_type": "stream",
     "text": [
      "[[['a'], [2]], [['a'], [2]], [['b'], [1]], [['b'], [1]]]\n"
     ]
    }
   ],
   "source": [
    "\n",
    "import math\n",
    "def fact():\n",
    "    n = int(input('entrez un nombre entier'))\n",
    "    somme = 1\n",
    "    i = n\n",
    "    while i > 1:\n",
    "        somme = somme * i*(i-1)\n",
    "        i -= 2\n",
    "    return somme\n",
    "\n",
    "\n",
    "\n",
    "\n",
    "\n",
    "def multiplication():\n",
    "    n = int(input('entrez un nombre entier'))\n",
    "    i = 1\n",
    "    while i < 11:\n",
    "        print(i ,'x', n , '= ' , n * i )\n",
    "        i += 1\n",
    "\n",
    "\n",
    "\n",
    "\n",
    "\n",
    "\n",
    "def carreParfait():\n",
    "    n = int(input('entrez un nombre entier'))\n",
    "    if math.sqrt(n) - int(math.sqrt(n)) == 0 :\n",
    "        return 'ce est un carre parfait!'\n",
    "    else:\n",
    "        return 'ce nest pas un carré parfait :('\n",
    "\n",
    "\n",
    "    \n",
    "\n",
    "def affichageChaine():\n",
    "    m = input('entrez un mot')\n",
    "    for x in m:\n",
    "        print(x)\n",
    "\n",
    "\n",
    "\n",
    "\n",
    "\n",
    "def motPlusLong():\n",
    "    m = input('entrez une phrase')\n",
    "    m = m.split()\n",
    "    maxLength = len(m[0])\n",
    "    count = m[0]\n",
    "    for x in m:\n",
    "        \n",
    "        if maxLength < len(x):\n",
    "            maxLength = len(x)\n",
    "            count = x\n",
    "    return count\n",
    "\n",
    "\n",
    "\n",
    "def NombreOccurence():\n",
    "        l = []\n",
    "        count =0 \n",
    "        m = input('entrez une phrase')\n",
    "        for j in range(len(m)):\n",
    "            if m[j] in [item[0] for item in l]:  \n",
    "                continue\n",
    "           \n",
    "            count= 0\n",
    "            for i in range(len(m)-1):\n",
    "                \n",
    "                if m[j] == m[i]:\n",
    "                    count+=1\n",
    "            \n",
    "            l.append([[m[j]],[count]])\n",
    "        print(l)\n",
    "        \n",
    "NombreOccurence()\n"
   ]
  }
 ],
 "metadata": {
  "kernelspec": {
   "display_name": "Python 3",
   "language": "python",
   "name": "python3"
  },
  "language_info": {
   "codemirror_mode": {
    "name": "ipython",
    "version": 3
   },
   "file_extension": ".py",
   "mimetype": "text/x-python",
   "name": "python",
   "nbconvert_exporter": "python",
   "pygments_lexer": "ipython3",
   "version": "3.13.7"
  }
 },
 "nbformat": 4,
 "nbformat_minor": 5
}
