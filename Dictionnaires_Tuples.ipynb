{
 "cells": [
  {
   "cell_type": "markdown",
   "id": "914e84e2",
   "metadata": {},
   "source": [
    "<center>\n",
    "<H1><span style=\"text-align: center; font-weight: bold; color: #746bb3ff;\">Les Dictionnaires & Tuples</span></H1>\n",
    "</center>"
   ]
  },
  {
   "cell_type": "markdown",
   "id": "4904b5d8",
   "metadata": {},
   "source": [
    "<H3><span style=\"font-weight: bold ; color: #19b7f1ff\">Les ressources: </span></H3> \n",
    "\n",
    "**Documentation Officielle** : \n",
    "* [Dictionnaires](https://docs.python.org/fr/3/tutorial/datastructures.html#dictionaries) \n",
    "* [Tuples](https://docs.python.org/fr/3/tutorial/datastructures.html#tuples-and-sequences)"
   ]
  },
  {
   "cell_type": "markdown",
   "id": "6ba65839",
   "metadata": {},
   "source": [
    "<H3><span style=\"font-weight: bold; color: #1a8bcdff;\">Challenge 1 : Manipulation des dictionnaires Python</span></H3>\n",
    "\n",
    "1. <span style=\"font-weight: bold; color: #e56922ff;\">Objectif</span> : </br>\n",
    "Apprendre à manipuler des dictionnaires en Python à travers plusieurs opérations clés\n",
    "\n",
    "2. <span style=\"font-weight: bold; color: #e56922ff;\">Travail à faire</span>:</br>\n",
    "Considérons le dictionnaire suivant :\n",
    "\n",
    "<code>\n",
    "First_dict = { \"Appareil\": \"Laptop\", \"Marque\": \"IBM\", \"Carte mère\": \"MSI Z490\", \"Carte Graphique\":\"GeForce RTX 3070\", \"RAM\": \"16G\", \"Processeur\": \"Intel core i7-G11\", \"SSD\": \"1 To\" }    </code>\n",
    "\n",
    "- *Parti 1:* Écris un programme Python qui effectue les opérations suivantes :\n",
    "\n",
    "1. Corriger la valeur associée à la clé \"RAM\" pour qu’elle devienne \"32G\".\n",
    "\n",
    "2. Afficher successivement :\n",
    "\n",
    "3. La liste des clés du dictionnaire\n",
    "\n",
    "4. La liste des valeurs\n",
    "\n",
    "5. La liste des paires clé-valeur\n",
    "\n",
    "6. Inverser les paires \"Processeur\" : \"Intel core i7-G11\" et \"Carte Graphique\" : \"GeForce RTX 3070\"\n",
    "\n",
    "7. Ajouter la paire clé-valeur suivante : \"Système d’exploitation\": \"Windows 10\"\n",
    "\n",
    "- *Parti 2:* On considère le dictionnaire suivant dont les clés sont les noms des élèves et les valeurs des clés sont les moyennes générales obtenues en passant l’examen final.\n",
    "\n",
    "<code>notes_eleves = { \"Amine\": 15.5, \"Yassine\": 19.0, \"Reda\": 14.2, \"Malak\": 8.7, \"Manal\": 20.0, \"Ahmed\": 7.5,\"Saad\": 11.3, \"Hannae\": 9.8 }</code>\n",
    "\n",
    "Écrire un programme Python qui partitionne ce dictionnaire en deux sous dictionnaires :\n",
    "\n",
    "* etudiantAdmis dont les clés sont les étudiants admis et les valeurs des clés sont les moyennes obtenues (moyenne supérieures ou égales à 10 ).\n",
    "\n",
    "* etudiantNonAdmis dont les clés sont les étudiants non admis et les valeurs des clés sont les moyennes obtenues (moyenne inférieur ou égale à 10). "
   ]
  },
  {
   "cell_type": "code",
   "execution_count": 27,
   "id": "0fc954a1",
   "metadata": {},
   "outputs": [
    {
     "name": "stdout",
     "output_type": "stream",
     "text": [
      "Appareil\n",
      "Marque\n",
      "Carte mère\n",
      "Carte Graphique\n",
      "RAM\n",
      "Processeur\n",
      "SSD\n",
      "Laptop\n",
      "IBM\n",
      "MSI Z490\n",
      "GeForce RTX 3070\n",
      "32G\n",
      "Intel core i7-G11\n",
      "1 To\n",
      "{'Appareil': 'Laptop', 'Marque': 'IBM', 'Carte mère': 'MSI Z490', 'Carte Graphique': 'GeForce RTX 3070', 'RAM': '32G', 'Processeur': 'Intel core i7-G11', 'SSD': '1 To'}\n",
      "Processeur\n",
      "Intel core i7-G11\n",
      "{'Appareil': 'Laptop', 'Marque': 'IBM', 'Carte mère': 'MSI Z490', 'Carte Graphique': 'GeForce RTX 3070', 'RAM': '32G', 'Processeur': 'Intel core i7-G11', 'SSD': '1 To', 'Intel core i7-G11': 'Processeur', 'Système d’exploitation': 'Windows 10'}\n"
     ]
    }
   ],
   "source": [
    "#  Écrivez du code Python ici\n",
    "First_dict = { \"Appareil\": \"Laptop\", \"Marque\": \"IBM\", \"Carte mère\": \"MSI Z490\", \n",
    "              \"Carte Graphique\":\"GeForce RTX 3070\", \"RAM\": \"16G\",\n",
    "                \"Processeur\": \"Intel core i7-G11\", \"SSD\": \"1 To\" }\n",
    "First_dict[\"RAM\"] = \"32G\"\n",
    "for i in First_dict:\n",
    "    print (i)\n",
    "for i in First_dict:\n",
    "    print (First_dict[i])\n",
    "print(First_dict)\n",
    "\n",
    "def returnKey(dictionary ,value) :\n",
    "    for k,v  in dictionary.items() :\n",
    "        if v == value :\n",
    "            return(k)\n",
    "\n",
    "key = returnKey(First_dict , \"Intel core i7-G11\")\n",
    "print(key)\n",
    "print(First_dict[key])\n",
    "key, First_dict[key] = First_dict[key] , key\n",
    "\n",
    "First_dict[\"Système d’exploitation\"] = \"Windows 10\"\n",
    "print(First_dict)\n",
    "\n",
    "\n",
    "\n",
    "\n",
    "\n",
    "\n",
    "\n"
   ]
  },
  {
   "cell_type": "code",
   "execution_count": 30,
   "id": "3adf087e",
   "metadata": {},
   "outputs": [
    {
     "name": "stdout",
     "output_type": "stream",
     "text": [
      "{'Amine': 15.5, 'Yassine': 19.0, 'Reda': 14.2, 'Manal': 20.0, 'Saad': 11.3}\n",
      "{'Malak': 8.7, 'Ahmed': 7.5, 'Hannae': 9.8}\n"
     ]
    }
   ],
   "source": [
    "notes_eleves = { \"Amine\": 15.5, \"Yassine\": 19.0, \"Reda\": 14.2, \"Malak\": 8.7, \"Manal\": 20.0, \"Ahmed\": 7.5,\"Saad\": 11.3, \"Hannae\": 9.8 }\n",
    "notes_eleves_reussie = {}\n",
    "notes_eleves_pasReussie = {}\n",
    "for key, value in notes_eleves.items():\n",
    "    if value > 10:\n",
    "        notes_eleves_reussie[key] = value\n",
    "    else:\n",
    "        notes_eleves_pasReussie[key] = value\n",
    "print(notes_eleves_reussie)\n",
    "print(notes_eleves_pasReussie)"
   ]
  },
  {
   "cell_type": "markdown",
   "id": "7ab8effa",
   "metadata": {},
   "source": [
    "<H3><span style=\"font-weight: bold; color: #1a8bcdff;\">Challenge 2 : Mise à Jour de Dictionnaires</span></H3>\n",
    "\n",
    "1. <span style=\"font-weight: bold; color: #e56922ff;\">Objectif</span> : </br>\n",
    "Fusionner plusieurs dictionnaires en un seul.\n",
    "\n",
    "2. <span style=\"font-weight: bold; color: #e56922ff;\">Travail à faire</span>:</br>\n",
    "* Utilisez update() pour fusionner trois dictionnaires différents.\n",
    "* Affichez le dictionnaire final avec toutes les clés et valeurs combinées.\n"
   ]
  },
  {
   "cell_type": "code",
   "execution_count": 33,
   "id": "85cd8892",
   "metadata": {},
   "outputs": [
    {
     "name": "stdout",
     "output_type": "stream",
     "text": [
      "{'a': 2, 'b': 3, 'c': 2, 'd': 3, 'e': 2, 'f': 3}\n"
     ]
    }
   ],
   "source": [
    "#  Écrivez du code Python ici\n",
    "dict1 = { \"a\": 2 , \"b\": 3}\n",
    "dict2 = { \"c\": 2 , \"d\": 3}\n",
    "dict3 = { \"e\": 2 , \"f\": 3}\n",
    "dict1.update(dict2)\n",
    "dict1.update(dict3)\n",
    "print(dict1)"
   ]
  },
  {
   "cell_type": "markdown",
   "id": "c5dd1c26",
   "metadata": {},
   "source": [
    "<H3><span style=\"font-weight: bold; color: #1a8bcdff;\">Challenge 3 : Conversion de Deux Listes en Dictionnaire</span></H3>\n",
    "\n",
    "1. <span style=\"font-weight: bold; color: #e56922ff;\">Objectif</span> : </br>\n",
    "Créer un dictionnaire à partir de deux listes (une pour les clés, une pour les valeurs).\n",
    "\n",
    "2. <span style=\"font-weight: bold; color: #e56922ff;\">Travail à faire</span>:</br>\n",
    "* Utilisez zip() pour combiner les deux listes.\n",
    "* Convertissez le résultat en dictionnaire.\n",
    "* Affichez le dictionnaire créé.\n",
    "\n"
   ]
  },
  {
   "cell_type": "code",
   "execution_count": 34,
   "id": "2663dae7",
   "metadata": {},
   "outputs": [
    {
     "name": "stdout",
     "output_type": "stream",
     "text": [
      "{1: 'pomme', 2: 'banane', 3: 'orange', 4: 'mangue', 5: 'fraise'}\n"
     ]
    }
   ],
   "source": [
    "#  Écrivez du code Python ici\n",
    "\n",
    "liste_nombres = [1, 2, 3, 4, 5]\n",
    "liste_fruits = [\"pomme\", \"banane\", \"orange\", \"mangue\", \"fraise\"]\n",
    "dictionnaire = dict(zip(liste_nombres, liste_fruits))\n",
    "print(dictionnaire)\n",
    "\n",
    "\n"
   ]
  },
  {
   "cell_type": "markdown",
   "id": "b64cf938",
   "metadata": {},
   "source": [
    "\n",
    "<H3><span style=\"font-weight: bold; color: #1a8bcdff;\">Challenge 4 : Tri d'un Dictionnaire</span></H3>\n",
    "\n",
    "1. <span style=\"font-weight: bold; color: #e56922ff;\">Objectif</span> : </br>\n",
    "Trier un dictionnaire selon ses valeurs.\n",
    "\n",
    "2. <span style=\"font-weight: bold; color: #e56922ff;\">Travail à faire</span>:</br>\n",
    "* Utilisez items() pour obtenir les paires clé-valeur.\n",
    "* Triez ces paires par valeur.\n",
    "* Créez un nouveau dictionnaire à partir des paires triées.\n",
    "\n"
   ]
  },
  {
   "cell_type": "code",
   "execution_count": 43,
   "id": "09480797",
   "metadata": {},
   "outputs": [
    {
     "name": "stdout",
     "output_type": "stream",
     "text": [
      "dict_items([('Alice', 15), ('Bob', 12), ('Charlie', 18), ('Diana', 10), ('Eve', 20)])\n",
      "[('Alice', 15), ('Bob', 12), ('Charlie', 18), ('Diana', 10), ('Eve', 20)]\n",
      "[('Diana', 10), ('Bob', 12), ('Alice', 15), ('Charlie', 18), ('Eve', 20)]\n",
      "{'Diana': 10, 'Bob': 12, 'Alice': 15, 'Charlie': 18, 'Eve': 20}\n"
     ]
    }
   ],
   "source": [
    "#  Écrivez du code Python ici\n",
    "scores = {\"Alice\": 15, \"Bob\": 12, \"Charlie\": 18, \"Diana\": 10, \"Eve\": 20}\n",
    "print(scores.items())\n",
    "items = list(scores.items())\n",
    "print(items)\n",
    "scoresSorted = {}\n",
    "for i in range(len(items)):\n",
    "    for j in range(len(items)-1):\n",
    "        if items[j][1] > items[j+1][1]:\n",
    "            temp = items[j]\n",
    "            items[j] = items[j+1]\n",
    "            items[j+1] = temp\n",
    "print (items)\n",
    "scoresSorted = dict(items)\n",
    "print(scoresSorted)\n",
    "\n",
    "\n",
    "\n",
    "\n"
   ]
  },
  {
   "cell_type": "markdown",
   "id": "2c429ffc",
   "metadata": {},
   "source": [
    "\n",
    "<H3><span style=\"font-weight: bold; color: #1a8bcdff;\">Challenge 5 : Manipulation de tuples </span></H3>\n",
    "\n",
    "1. <span style=\"font-weight: bold; color: #e56922ff;\">Objectif</span> : </br>\n",
    "Comprendre la structure des tuples, leur immutabilité, et leur utilisation pour stocker des données groupées et ordonnées.\n",
    "\n",
    "2. <span style=\"font-weight: bold; color: #e56922ff;\">Travail à faire</span>:</br>\n",
    "* Crée un tuple nommé etudiant_info contenant les informations suivantes dans cet ordre : Prénom : \"Yasmine\", Âge : 22, Filière : \"Informatique\", Moyenne générale : 17.4\n",
    "* Affiche les informations stockées dans le tuple, une par ligne, avec un texte explicite. (ex: “Prénom : Yasmine”)\n",
    "* Tente de modifier la filière dans le tuple. Que se passe-t-il ? Explique pourquoi.\n",
    "* Utilise l'opérateur de slicing pour afficher uniquement le prénom et l'âge.\n",
    "* Crée un nouveau tuple en combinant etudiant_info avec un second tuple contenant la mention \"Très Bien\" et l’année d’obtention du diplôme (2024), puis affiche le tuple final."
   ]
  },
  {
   "cell_type": "code",
   "execution_count": 76,
   "id": "1e59354d",
   "metadata": {},
   "outputs": [
    {
     "name": "stdout",
     "output_type": "stream",
     "text": [
      "(('Prénom', 'Yasmine'), ('Âge', 22), ('Filière', 'Informatique'), ('Moyenne générale', 17.4))\n",
      "' Prénom : Yasmine '\n",
      "' Âge : 22 '\n",
      "' Filière : Informatique '\n",
      "' Moyenne générale : 17.4 '\n",
      "(('Prénom', 'Yasmine'), ('Âge', 22))\n",
      "[('mention', 'Très Bien'), ('l’année d’obtention du diplôme', 2024)]\n",
      "(('Prénom', 'Yasmine'), ('Âge', 22), ('Filière', 'Informatique'), ('Moyenne générale', 17.4), ('mention', 'Très Bien'), ('l’année d’obtention du diplôme', 2024))\n"
     ]
    }
   ],
   "source": [
    "#  Écrivez du code Python ici\n",
    "etudiant_info = ((\"Prénom\" , \"Yasmine\") , (\"Âge\" , 22)  , (\"Filière\" , \"Informatique\") , (\"Moyenne générale\" , 17.4))\n",
    "print(etudiant_info)\n",
    "dictInfo = dict(etudiant_info)\n",
    "for n,m in dictInfo.items() :\n",
    "    print(\"'\" ,n,\":\", m , \"'\" )\n",
    "\n",
    "#etudiant_info[0] = (\"Prénom\" , \"abir\")\n",
    "#TypeError: 'tuple' object does not support item assignment\n",
    "\n",
    "print(etudiant_info[0:2])\n",
    "additional_info = ((\"mention\" ,\"Très Bien\") , (\"l’année d’obtention du diplôme\" , 2024))\n",
    "etudiant_info = list(etudiant_info)\n",
    "additional_info = list(additional_info)\n",
    "print(additional_info)\n",
    "etudiant_info.extend(additional_info)\n",
    "print(tuple(etudiant_info))\n",
    "\n",
    "\n",
    "\n",
    "\n",
    "    \n"
   ]
  },
  {
   "cell_type": "markdown",
   "id": "bdb88a19",
   "metadata": {},
   "source": []
  }
 ],
 "metadata": {
  "kernelspec": {
   "display_name": "Python 3",
   "language": "python",
   "name": "python3"
  },
  "language_info": {
   "codemirror_mode": {
    "name": "ipython",
    "version": 3
   },
   "file_extension": ".py",
   "mimetype": "text/x-python",
   "name": "python",
   "nbconvert_exporter": "python",
   "pygments_lexer": "ipython3",
   "version": "3.13.7"
  }
 },
 "nbformat": 4,
 "nbformat_minor": 5
}
